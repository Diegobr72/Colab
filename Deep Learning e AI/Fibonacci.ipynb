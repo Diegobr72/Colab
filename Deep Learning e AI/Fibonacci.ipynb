{
  "nbformat": 4,
  "nbformat_minor": 0,
  "metadata": {
    "colab": {
      "provenance": []
    },
    "kernelspec": {
      "name": "python3",
      "display_name": "Python 3"
    },
    "language_info": {
      "name": "python"
    }
  },
  "cells": [
    {
      "cell_type": "markdown",
      "source": [
        "# Fibonacci\n",
        "\n",
        "## Pessoal, esqueci de pedir o exercício de Fibonacci. Segue agora, complementar à entrega programada para o dia 22/8!\n",
        "\n",
        "## Lembrando: criar um algoritmo em Python que calcule os 10 primeiros termos da sequência de Fibonacci."
      ],
      "metadata": {
        "id": "5LDXt_5MFcnQ"
      }
    },
    {
      "cell_type": "code",
      "execution_count": 2,
      "metadata": {
        "id": "npq2TSHkFZHJ"
      },
      "outputs": [],
      "source": [
        "def fibonacci(x):\n",
        "    a = 0\n",
        "    b = 1\n",
        "    for i in range(x):\n",
        "        print(a)\n",
        "        b = a + b\n",
        "        a = b - a"
      ]
    },
    {
      "cell_type": "code",
      "source": [
        "fibonacci(12)"
      ],
      "metadata": {
        "colab": {
          "base_uri": "https://localhost:8080/"
        },
        "id": "wp0x0EmFFq13",
        "outputId": "667eef4d-8629-4bdc-dc29-546ecbb9684d"
      },
      "execution_count": 4,
      "outputs": [
        {
          "output_type": "stream",
          "name": "stdout",
          "text": [
            "0\n",
            "1\n",
            "1\n",
            "2\n",
            "3\n",
            "5\n",
            "8\n",
            "13\n",
            "21\n",
            "34\n",
            "55\n",
            "89\n"
          ]
        }
      ]
    }
  ]
}
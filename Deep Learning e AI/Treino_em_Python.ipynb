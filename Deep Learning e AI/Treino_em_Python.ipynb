{
  "nbformat": 4,
  "nbformat_minor": 0,
  "metadata": {
    "colab": {
      "provenance": []
    },
    "kernelspec": {
      "name": "python3",
      "display_name": "Python 3"
    },
    "language_info": {
      "name": "python"
    }
  },
  "cells": [
    {
      "cell_type": "markdown",
      "source": [
        "# **Treinando Python**\n",
        "\n",
        "### **Sete** exercícios em Python:\n",
        "### Os exercícios abaixo foram concebidos para estimular a lógica de programação e, simultaneamente, para ajudar vocês a transportar conceitos matemáticos para linguagem de programação.\n",
        "\n",
        "### Boa sorte!"
      ],
      "metadata": {
        "id": "hD6lTWhMbTwZ"
      }
    },
    {
      "cell_type": "markdown",
      "source": [
        "## **Exercício 1**\n",
        "### Crie uma função que calcula a área de um hexágono de aresta X, onde ao menos dois dos seus ângulos internos opostos são iguais a 90º"
      ],
      "metadata": {
        "id": "-W71FjSBcVoy"
      }
    },
    {
      "cell_type": "code",
      "source": [
        "def area_hex(x, z):\n",
        "  y = (z**2 + z**2)**(1/2)\n",
        "  h = (z**2 - (y/2)**2)**(1/2)\n",
        "  at = y * h / 2\n",
        "  return at\n",
        "\n",
        "area_hex(1, 5)"
      ],
      "metadata": {
        "colab": {
          "base_uri": "https://localhost:8080/"
        },
        "id": "RCbGNpz4dS4Y",
        "outputId": "0fe5dc0a-9efa-4337-eee6-46020f2298a5"
      },
      "execution_count": null,
      "outputs": [
        {
          "output_type": "execute_result",
          "data": {
            "text/plain": [
              "12.5"
            ]
          },
          "metadata": {},
          "execution_count": 5
        }
      ]
    },
    {
      "cell_type": "markdown",
      "source": [
        "## **Exercício 2**\n",
        "### Crie uma função que, dada uma lista de inteiros positivos, indique quais números dessa lista são primos."
      ],
      "metadata": {
        "id": "GAykJWPFce7R"
      }
    },
    {
      "cell_type": "code",
      "source": [
        "def primo(lista):\n",
        "  primos = []\n",
        "  for i in lista:\n",
        "    primo = True\n",
        "    for j in range(2, i):\n",
        "      if i % j == 0:\n",
        "        primo = False\n",
        "        break\n",
        "    if primo:\n",
        "      primos.append(i)\n",
        "  print(primos)\n",
        "\n",
        "lista = [1, 2, 3, 4, 5, 6, 7, 8, 9, 10, 11, 12, 13, 14, 15]\n",
        "primo(lista)"
      ],
      "metadata": {
        "colab": {
          "base_uri": "https://localhost:8080/"
        },
        "id": "pyinEkyyemIN",
        "outputId": "a5907a09-aca5-4570-9b8f-d1d49be113c0"
      },
      "execution_count": null,
      "outputs": [
        {
          "output_type": "stream",
          "name": "stdout",
          "text": [
            "[1, 2, 3, 5, 7, 11, 13]\n"
          ]
        }
      ]
    },
    {
      "cell_type": "markdown",
      "source": [
        "## **Exercício 3**\n",
        "### Crie uma função em Python que calcule as raízes de uma equação de segundo grau completa, dado os seus coeficientes.\n",
        "\n",
        "### Lembrando:\n",
        "\n",
        "<br>\n",
        "\n",
        "![image.png](data:image/png;base64,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)"
      ],
      "metadata": {
        "id": "4PXmrRsscjL6"
      }
    },
    {
      "cell_type": "code",
      "source": [
        "def equacao_2grau(a, b, c):\n",
        "  delta = b**2 - 4 * a * c\n",
        "  if delta < 0:\n",
        "    return \"A equação não possui raízes reais.\"\n",
        "  elif delta == 0:\n",
        "    x = -b / (2 * a)\n",
        "    return x\n",
        "  else:\n",
        "    x1 = (- b + (delta ** 0.5)) / (2 * a)\n",
        "    x2 = (- b - (delta ** 0.5)) / (2 * a)\n",
        "    return x1, x2\n",
        "\n",
        "equacao_2grau(4, 2, 0)"
      ],
      "metadata": {
        "colab": {
          "base_uri": "https://localhost:8080/"
        },
        "id": "65hw8FYYgtbX",
        "outputId": "d1dd9462-f57d-479a-de26-48386c53dc10"
      },
      "execution_count": null,
      "outputs": [
        {
          "output_type": "execute_result",
          "data": {
            "text/plain": [
              "(0.0, -0.5)"
            ]
          },
          "metadata": {},
          "execution_count": 9
        }
      ]
    },
    {
      "cell_type": "markdown",
      "source": [
        "## **Exercício 4**\n",
        "###Crie uma função que, dado um número de segundos X, converta o mesmo para horas, minutos e segundos.\n",
        "\n",
        "### Exemplo: 7221 segundos: 2 horas, 0 minutos e 21 segundos."
      ],
      "metadata": {
        "id": "G59dfJjmdFJA"
      }
    },
    {
      "cell_type": "code",
      "source": [
        "def converter_segundos(segundos):\n",
        "  horas = segundos // 3600\n",
        "  minutos = (segundos % 3600) // 60\n",
        "  segundos = segundos % 60\n",
        "  print(f\"{horas} horas, {minutos} minutos e {segundos} segundos.\")\n",
        "\n",
        "converter_segundos(7221)"
      ],
      "metadata": {
        "colab": {
          "base_uri": "https://localhost:8080/"
        },
        "id": "moxnfuO8iZXH",
        "outputId": "d424af58-b4f4-4a2a-9bb4-3d9cf20258f3"
      },
      "execution_count": null,
      "outputs": [
        {
          "output_type": "stream",
          "name": "stdout",
          "text": [
            "2 horas, 0 minutos e 21 segundos.\n"
          ]
        }
      ]
    },
    {
      "cell_type": "markdown",
      "source": [
        "## **Exercício 5**\n",
        "### Crie uma função que receba o raio de um círculo. Imagine que será criado um quadrado ao redor desse círculo e um quadrado interno a esse círculo, tal como na imagem abaixo. Calcule a diferença entre as áreas desses dois quadrados.\n",
        "\n",
        "<br>\n",
        "\n",
        "![image.png](data:image/png;base64,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)"
      ],
      "metadata": {
        "id": "eGuid7F5iq55"
      }
    },
    {
      "cell_type": "code",
      "source": [
        "import math\n",
        "\n",
        "def diferenca_areas_quadrados(raio):\n",
        "\n",
        "    lado_quadrado_externo = 2 * raio\n",
        "\n",
        "    lado_quadrado_interno = math.sqrt(2) * raio\n",
        "\n",
        "    area_quadrado_externo = lado_quadrado_externo ** 2\n",
        "    area_quadrado_interno = lado_quadrado_interno ** 2\n",
        "\n",
        "    diferenca = area_quadrado_externo - area_quadrado_interno\n",
        "\n",
        "    print(f\"A diferença das área dos quadrados é {diferenca}\")\n",
        "\n",
        "diferenca_areas_quadrados(5)\n"
      ],
      "metadata": {
        "id": "RefHy8V9jNmG",
        "colab": {
          "base_uri": "https://localhost:8080/"
        },
        "outputId": "7ce90a12-0a9a-4eb1-d48e-f5518efce982"
      },
      "execution_count": 20,
      "outputs": [
        {
          "output_type": "stream",
          "name": "stdout",
          "text": [
            "A diferença das área dos quadrados é 49.99999999999999\n"
          ]
        }
      ]
    },
    {
      "cell_type": "markdown",
      "source": [
        "## **Exercício 6**\n",
        "### Crie uma função em Python que, dado um número inteiro positivo maior que 1, determine se o número é abundante. Um número abundante é aquele que é menor do que a soma dos seus divisores."
      ],
      "metadata": {
        "id": "8cR-x_PSjO0W"
      }
    },
    {
      "cell_type": "code",
      "source": [
        "def abundante(n):\n",
        "    soma_divisores = sum(i for i in range(1, n) if n % i == 0)\n",
        "\n",
        "    if soma_divisores > n:\n",
        "        print(f\"{n} é um número abundante.\")\n",
        "    else:\n",
        "        print(f\"{n} não é um número abundante.\")\n",
        "\n",
        "abundante(4)"
      ],
      "metadata": {
        "colab": {
          "base_uri": "https://localhost:8080/"
        },
        "id": "zekFgufYp0KP",
        "outputId": "b97c3be5-a925-4b06-83b3-6b69b5e24b44"
      },
      "execution_count": 28,
      "outputs": [
        {
          "output_type": "stream",
          "name": "stdout",
          "text": [
            "4 não é um número abundante.\n"
          ]
        }
      ]
    },
    {
      "cell_type": "markdown",
      "source": [
        "## **Exercício 7**\n",
        "###Crie um algoritmo que determine se as linhas e colunas de uma matriz bidimensional possuem a mesma soma. Exemplo:\n",
        "\n",
        "## 8 1 5\n",
        "## 3 5 7\n",
        "## 4 9 2\n",
        "\n",
        "### No caso acima, todas as linhas e todas as colunas apresentam a soma 15. Representação de uma matriz bidimensional:\n",
        "\n",
        "### matriz = [[8,1,5],[3,5,7],[4,9,2]]"
      ],
      "metadata": {
        "id": "qPCLXbVEjZH2"
      }
    },
    {
      "cell_type": "code",
      "source": [
        "def verificar_somas_matriz(matriz):\n",
        "\n",
        "    soma_linhas = []\n",
        "    soma_colunas = []\n",
        "\n",
        "    for linha in matriz:\n",
        "        soma_linhas.append(sum(linha))\n",
        "\n",
        "    for coluna in zip(*matriz):\n",
        "        soma_colunas.append(sum(coluna))\n",
        "\n",
        "    if soma_linhas == soma_colunas and len(set(soma_linhas)) == 1:\n",
        "        print(\"Sim, a soma de todas linhas da matriz sempre da mesmo resultado.\")\n",
        "    else:\n",
        "        print(\"Não, a soma de todas linhas da matriz não vai da mesmo resultado.\")"
      ],
      "metadata": {
        "id": "b4mquwh-rSwU"
      },
      "execution_count": 33,
      "outputs": []
    },
    {
      "cell_type": "code",
      "source": [
        "matriz = [\n",
        "    [8, 1, 5],\n",
        "    [3, 5, 7],\n",
        "    [4, 9, 2]\n",
        "]\n",
        "\n",
        "verificar_somas_matriz(matriz)"
      ],
      "metadata": {
        "colab": {
          "base_uri": "https://localhost:8080/"
        },
        "id": "woSn1nqnxAVY",
        "outputId": "dce700a6-7e22-4336-a532-377ce3a0ab09"
      },
      "execution_count": 34,
      "outputs": [
        {
          "output_type": "stream",
          "name": "stdout",
          "text": [
            "Não, a soma de todas linhas da matriz não vai da mesmo resultado.\n"
          ]
        }
      ]
    },
    {
      "cell_type": "markdown",
      "source": [
        "## **Exercício 8**\n",
        "### Dada uma matriz bidimensional, indique quantos pares de números iguais adjacentes existem.\n",
        "\n",
        "###Exemplo:\n",
        "\n",
        "## [1, 2, 3, **4**, 5]\n",
        "## [2, 3, **5**, **4**, 6]\n",
        "## [**4**, **4**, **5**, 6, 7]"
      ],
      "metadata": {
        "id": "Z4LQbZNPlEbK"
      }
    },
    {
      "cell_type": "code",
      "source": [
        "def contar_pares_adjacentes(matriz):\n",
        "\n",
        "    contagem_pares = 0\n",
        "\n",
        "    linhas = len(matriz)\n",
        "    colunas = len(matriz[0])\n",
        "\n",
        "    for i in range(linhas):\n",
        "        for j in range(colunas - 1):\n",
        "            if matriz[i][j] == matriz[i][j + 1]:\n",
        "                contagem_pares += 1\n",
        "\n",
        "    for i in range(linhas - 1):\n",
        "        for j in range(colunas):\n",
        "            if matriz[i][j] == matriz[i + 1][j]:\n",
        "                contagem_pares += 1\n",
        "\n",
        "    print(f\"O número de pares de números iguais adjacentes é: {contagem_pares}\")\n"
      ],
      "metadata": {
        "id": "LNqB178xxhBx"
      },
      "execution_count": 36,
      "outputs": []
    },
    {
      "cell_type": "code",
      "source": [
        "matriz = [\n",
        "    [1, 2, 3, 4, 5],\n",
        "    [2, 3, 5, 4, 6],\n",
        "    [4, 4, 5, 6, 7]\n",
        "]\n",
        "\n",
        "contar_pares_adjacentes(matriz)"
      ],
      "metadata": {
        "colab": {
          "base_uri": "https://localhost:8080/"
        },
        "id": "__qO3FoHxspP",
        "outputId": "0ed73ba9-d557-476c-f2c0-cf5e58adb432"
      },
      "execution_count": 37,
      "outputs": [
        {
          "output_type": "stream",
          "name": "stdout",
          "text": [
            "O número de pares de números iguais adjacentes é: 3\n"
          ]
        }
      ]
    }
  ]
}
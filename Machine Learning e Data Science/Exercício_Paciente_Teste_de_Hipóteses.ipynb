{
  "cells": [
    {
      "cell_type": "markdown",
      "source": [
        "# **Revisão Teste-T**\n",
        "\n",
        "## Valendo 0,5 ponto no Checkpoint 1:\n",
        "\n",
        "## Para as amostras dadas, realizar um teste-t, verificando as características da amostra, que diga se os valores são estatísticamente iguais ou diferentes.\n",
        "\n",
        "## Utilizar alpha de 10%."
      ],
      "metadata": {
        "id": "yF30C_1tJco7"
      }
    },
    {
      "cell_type": "markdown",
      "source": [
        "**Importo as bibliotecas necessarias e os dados da minha amostra**\n",
        "\n"
      ],
      "metadata": {
        "id": "r2IG3Cu9Is3L"
      }
    },
    {
      "cell_type": "code",
      "source": [
        "import numpy as np\n",
        "import scipy.stats as stats\n",
        "\n",
        "paciente1 = [794.1, 716.9, 993, 724.7, 760.9, 908.2, 659.3, 690.8, 768.7, 717.3, 630.7, 729.5, 714.1, 810.3, 583.5, 679.9, 865.1]\n",
        "paciente2 = [976.4, 656.4, 861.2, 706.8, 718.5, 717.1, 759.8, 894.6, 867.6, 805.6, 765.4, 800.3, 789.9, 875.3, 740, 795.2, 823.8, 791.7, 948.5, 791.7, 948.5]\n",
        "\n",
        "alpha = 0.10"
      ],
      "outputs": [],
      "execution_count": 17,
      "metadata": {
        "id": "Uq8Y2BCYDP_u"
      }
    },
    {
      "cell_type": "markdown",
      "source": [
        "**Primeiro faço o teste de Normalidade**"
      ],
      "metadata": {
        "id": "U_hIBQMkFSRg"
      }
    },
    {
      "cell_type": "code",
      "source": [
        "estatiatica1_t,p_valor_1 = stats.shapiro(paciente1)\n",
        "estatiatica2_t,p_valor_2 = stats.shapiro(paciente2)\n",
        "\n",
        "if (p_valor_1 >= alpha and p_valor_2 >= alpha):\n",
        "  print(\"Shapiro: ambas amostras seguem distribuição normal\")\n",
        "else:\n",
        "  print(\"Shapiro: ambas amostras não seguem distribuição normal\")"
      ],
      "outputs": [
        {
          "output_type": "stream",
          "name": "stdout",
          "text": "Shapiro: ambas amostras seguem distribuição normal\n"
        }
      ],
      "execution_count": 18,
      "metadata": {
        "colab": {
          "base_uri": "https://localhost:8080/"
        },
        "id": "nSe454ezFRvx",
        "outputId": "7f81672c-bdc6-4751-e5ae-6e838a93bf92"
      }
    },
    {
      "cell_type": "markdown",
      "source": [
        "**Segundo faço o teste de homoscedasticidade**"
      ],
      "metadata": {
        "id": "Kn1jjDVpF_Vf"
      }
    },
    {
      "cell_type": "code",
      "source": [
        "estatiatica_t,p_valor = stats.levene(paciente1, paciente2)\n",
        "if (p_valor_1 >= alpha):\n",
        "  print(\"Levene: tem veriância igual\")\n",
        "else:\n",
        "  print(\"Levene: Não tem veriância igual\")"
      ],
      "outputs": [
        {
          "output_type": "stream",
          "name": "stdout",
          "text": "Levene: tem veriância igual\n"
        }
      ],
      "execution_count": 19,
      "metadata": {
        "colab": {
          "base_uri": "https://localhost:8080/"
        },
        "id": "talmlbEHGVh3",
        "outputId": "731bb274-8727-41fc-eafb-e1485d2f3f04"
      }
    },
    {
      "cell_type": "markdown",
      "source": [
        "**Se aprovado por Shapino  e Levene   faço o teste de homoscedasticidade**"
      ],
      "metadata": {
        "id": "OeQCDjVSH5nI"
      }
    },
    {
      "cell_type": "code",
      "source": [
        "estatiatica_t,p_valor = stats.ttest_ind(paciente1,paciente2)\n",
        "\n",
        "print(f\"P valor: {p_valor}\\n\")\n",
        "print(f\"Estatística t: {estatiatica1_t}\")"
      ],
      "outputs": [
        {
          "output_type": "stream",
          "name": "stdout",
          "text": "P valor: 0.05098627840008265\n\nEstatística t: 0.9508075752265375\n"
        }
      ],
      "execution_count": 20,
      "metadata": {
        "colab": {
          "base_uri": "https://localhost:8080/"
        },
        "id": "6l_loFyFGz9A",
        "outputId": "b18f7c30-40f6-4a60-83eb-e44106b96655"
      }
    },
    {
      "cell_type": "code",
      "source": [
        "if (p_valor < alpha):\n",
        "  print(\"Rejeitamos H0, as medias são diferentes com significância de 10%\")\n",
        "\n",
        "else:\n",
        "  print(\"Aceito H0, as médias são iguais com significância de 10%\")"
      ],
      "outputs": [
        {
          "output_type": "stream",
          "name": "stdout",
          "text": "Rejeitamos H0, as medias são diferentes com significância de 10%\n"
        }
      ],
      "execution_count": 22,
      "metadata": {
        "colab": {
          "base_uri": "https://localhost:8080/"
        },
        "id": "CBIX5pVXHA5x",
        "outputId": "1e95986b-45d5-4d0f-be7d-ad09f6761c9e"
      }
    }
  ],
  "metadata": {
    "colab": {
      "provenance": []
    },
    "kernelspec": {
      "name": "python",
      "language": "python",
      "display_name": "Pyolite (preview)"
    },
    "language_info": {
      "codemirror_mode": {
        "name": "python",
        "version": 3
      },
      "file_extension": ".py",
      "mimetype": "text/x-python",
      "name": "python",
      "nbconvert_exporter": "python",
      "pygments_lexer": "ipython3",
      "version": "3.8"
    },
    "kernel_info": {
      "name": "python"
    },
    "nteract": {
      "version": "nteract-front-end@1.0.0"
    }
  },
  "nbformat": 4,
  "nbformat_minor": 0
}